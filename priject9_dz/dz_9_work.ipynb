{
 "cells": [
  {
   "cell_type": "markdown",
   "id": "97440fd8-c451-4637-8536-2ba5adefebfa",
   "metadata": {},
   "source": [
    "## 1. Возьмем датасет отзывов о фильмах IMDb, который содержит текстовые рецензии с бинарной разметкой настроения (позитивный/негативный)."
   ]
  },
  {
   "cell_type": "code",
   "execution_count": 33,
   "id": "bd68b67a-5042-437e-8936-b4d22649df39",
   "metadata": {},
   "outputs": [
    {
     "name": "stdout",
     "output_type": "stream",
     "text": [
      "Requirement already satisfied: pandas in c:\\users\\otern\\anaconda3\\lib\\site-packages (2.1.4)\n",
      "Requirement already satisfied: numpy<2,>=1.23.2 in c:\\users\\otern\\anaconda3\\lib\\site-packages (from pandas) (1.26.4)\n",
      "Requirement already satisfied: python-dateutil>=2.8.2 in c:\\users\\otern\\anaconda3\\lib\\site-packages (from pandas) (2.8.2)\n",
      "Requirement already satisfied: pytz>=2020.1 in c:\\users\\otern\\anaconda3\\lib\\site-packages (from pandas) (2023.3.post1)\n",
      "Requirement already satisfied: tzdata>=2022.1 in c:\\users\\otern\\anaconda3\\lib\\site-packages (from pandas) (2023.3)\n",
      "Requirement already satisfied: six>=1.5 in c:\\users\\otern\\anaconda3\\lib\\site-packages (from python-dateutil>=2.8.2->pandas) (1.16.0)\n",
      "Note: you may need to restart the kernel to use updated packages.\n"
     ]
    }
   ],
   "source": [
    "pip install pandas"
   ]
  },
  {
   "cell_type": "code",
   "execution_count": 34,
   "id": "f438932c-daa3-4e91-8575-aeeef22f91cb",
   "metadata": {},
   "outputs": [],
   "source": [
    "import pandas as pd\n",
    "data = pd.read_csv('sentiment_dataset_work.csv')"
   ]
  },
  {
   "cell_type": "code",
   "execution_count": 35,
   "id": "99c0dd48-e4bf-41ee-b3f5-e5d92e920948",
   "metadata": {},
   "outputs": [
    {
     "data": {
      "text/html": [
       "<div>\n",
       "<style scoped>\n",
       "    .dataframe tbody tr th:only-of-type {\n",
       "        vertical-align: middle;\n",
       "    }\n",
       "\n",
       "    .dataframe tbody tr th {\n",
       "        vertical-align: top;\n",
       "    }\n",
       "\n",
       "    .dataframe thead th {\n",
       "        text-align: right;\n",
       "    }\n",
       "</style>\n",
       "<table border=\"1\" class=\"dataframe\">\n",
       "  <thead>\n",
       "    <tr style=\"text-align: right;\">\n",
       "      <th></th>\n",
       "      <th>review</th>\n",
       "      <th>sentiment</th>\n",
       "      <th>rule_based_sentiment</th>\n",
       "    </tr>\n",
       "  </thead>\n",
       "  <tbody>\n",
       "    <tr>\n",
       "      <th>0</th>\n",
       "      <td>after having read two or three negative review...</td>\n",
       "      <td>1</td>\n",
       "      <td>-1</td>\n",
       "    </tr>\n",
       "    <tr>\n",
       "      <th>1</th>\n",
       "      <td>in a lonely road in cape girardeau missouri a ...</td>\n",
       "      <td>1</td>\n",
       "      <td>-1</td>\n",
       "    </tr>\n",
       "    <tr>\n",
       "      <th>2</th>\n",
       "      <td>of the many problems with this film the worst ...</td>\n",
       "      <td>0</td>\n",
       "      <td>0</td>\n",
       "    </tr>\n",
       "    <tr>\n",
       "      <th>3</th>\n",
       "      <td>jeremy irons and forrest whitaker are good act...</td>\n",
       "      <td>0</td>\n",
       "      <td>-1</td>\n",
       "    </tr>\n",
       "    <tr>\n",
       "      <th>4</th>\n",
       "      <td>by 1945 and after a string of solid wwii propa...</td>\n",
       "      <td>1</td>\n",
       "      <td>0</td>\n",
       "    </tr>\n",
       "  </tbody>\n",
       "</table>\n",
       "</div>"
      ],
      "text/plain": [
       "                                              review  sentiment  \\\n",
       "0  after having read two or three negative review...          1   \n",
       "1  in a lonely road in cape girardeau missouri a ...          1   \n",
       "2  of the many problems with this film the worst ...          0   \n",
       "3  jeremy irons and forrest whitaker are good act...          0   \n",
       "4  by 1945 and after a string of solid wwii propa...          1   \n",
       "\n",
       "   rule_based_sentiment  \n",
       "0                    -1  \n",
       "1                    -1  \n",
       "2                     0  \n",
       "3                    -1  \n",
       "4                     0  "
      ]
     },
     "execution_count": 35,
     "metadata": {},
     "output_type": "execute_result"
    }
   ],
   "source": [
    "data.head()"
   ]
  },
  {
   "cell_type": "code",
   "execution_count": 36,
   "id": "b325182f-61cd-4354-bc7e-13c1e0243a96",
   "metadata": {},
   "outputs": [
    {
     "name": "stdout",
     "output_type": "stream",
     "text": [
      "<class 'pandas.core.frame.DataFrame'>\n",
      "RangeIndex: 3000 entries, 0 to 2999\n",
      "Data columns (total 3 columns):\n",
      " #   Column                Non-Null Count  Dtype \n",
      "---  ------                --------------  ----- \n",
      " 0   review                3000 non-null   object\n",
      " 1   sentiment             3000 non-null   int64 \n",
      " 2   rule_based_sentiment  3000 non-null   int64 \n",
      "dtypes: int64(2), object(1)\n",
      "memory usage: 70.4+ KB\n"
     ]
    }
   ],
   "source": [
    "data.info()"
   ]
  },
  {
   "cell_type": "markdown",
   "id": "48e70dc7-f82f-49d0-b60e-b9f4ea4e3b2d",
   "metadata": {},
   "source": [
    "## 2. Выполним разметку на основе правил (rule-based labeling) на подмножестве выбранного датасета. Разработаем и реализуем набор правил или условий, которые позволят автоматически присваивать метки данным на основе определенных шаблонов или критериев."
   ]
  },
  {
   "cell_type": "code",
   "execution_count": 37,
   "id": "5a68732d-97a2-43ba-a61d-1acc52e87c01",
   "metadata": {},
   "outputs": [],
   "source": [
    "def rule_based_labeling(row):\n",
    "    review = str(row['review'])  # Преобразуем в строку\n",
    "    \n",
    "    positive_words = [\n",
    "        'great', 'awesome', 'amazing', 'excellent', \n",
    "        'wonderful', 'best', 'love', 'enjoyed', \n",
    "        'fantastic', 'brilliant', 'perfect'\n",
    "    ]\n",
    "    \n",
    "    negative_words = [\n",
    "        'terrible', 'awful', 'bad', 'worst', \n",
    "        'horrible', 'disappointing', 'boring', \n",
    "        'hate', 'poor', 'stupid'\n",
    "    ]\n",
    "    \n",
    "    if any(word in review.lower() for word in positive_words):\n",
    "        return 'positive'\n",
    "    elif any(word in review.lower() for word in negative_words): \n",
    "        return 'negative'\n",
    "    else:\n",
    "        return 'neutral'"
   ]
  },
  {
   "cell_type": "code",
   "execution_count": 38,
   "id": "a6c949a3-2da4-415c-abfc-f7cf1e56d734",
   "metadata": {},
   "outputs": [],
   "source": [
    "data[\"Rating label\"] = data.apply(rule_based_labeling, axis=1)"
   ]
  },
  {
   "cell_type": "code",
   "execution_count": 39,
   "id": "5e66810f-592f-486a-b70f-e3204a974a3a",
   "metadata": {},
   "outputs": [
    {
     "data": {
      "text/html": [
       "<div>\n",
       "<style scoped>\n",
       "    .dataframe tbody tr th:only-of-type {\n",
       "        vertical-align: middle;\n",
       "    }\n",
       "\n",
       "    .dataframe tbody tr th {\n",
       "        vertical-align: top;\n",
       "    }\n",
       "\n",
       "    .dataframe thead th {\n",
       "        text-align: right;\n",
       "    }\n",
       "</style>\n",
       "<table border=\"1\" class=\"dataframe\">\n",
       "  <thead>\n",
       "    <tr style=\"text-align: right;\">\n",
       "      <th></th>\n",
       "      <th>review</th>\n",
       "      <th>sentiment</th>\n",
       "      <th>rule_based_sentiment</th>\n",
       "      <th>Rating label</th>\n",
       "    </tr>\n",
       "  </thead>\n",
       "  <tbody>\n",
       "    <tr>\n",
       "      <th>0</th>\n",
       "      <td>after having read two or three negative review...</td>\n",
       "      <td>1</td>\n",
       "      <td>-1</td>\n",
       "      <td>positive</td>\n",
       "    </tr>\n",
       "    <tr>\n",
       "      <th>1</th>\n",
       "      <td>in a lonely road in cape girardeau missouri a ...</td>\n",
       "      <td>1</td>\n",
       "      <td>-1</td>\n",
       "      <td>positive</td>\n",
       "    </tr>\n",
       "    <tr>\n",
       "      <th>2</th>\n",
       "      <td>of the many problems with this film the worst ...</td>\n",
       "      <td>0</td>\n",
       "      <td>0</td>\n",
       "      <td>positive</td>\n",
       "    </tr>\n",
       "    <tr>\n",
       "      <th>3</th>\n",
       "      <td>jeremy irons and forrest whitaker are good act...</td>\n",
       "      <td>0</td>\n",
       "      <td>-1</td>\n",
       "      <td>positive</td>\n",
       "    </tr>\n",
       "    <tr>\n",
       "      <th>4</th>\n",
       "      <td>by 1945 and after a string of solid wwii propa...</td>\n",
       "      <td>1</td>\n",
       "      <td>0</td>\n",
       "      <td>negative</td>\n",
       "    </tr>\n",
       "  </tbody>\n",
       "</table>\n",
       "</div>"
      ],
      "text/plain": [
       "                                              review  sentiment  \\\n",
       "0  after having read two or three negative review...          1   \n",
       "1  in a lonely road in cape girardeau missouri a ...          1   \n",
       "2  of the many problems with this film the worst ...          0   \n",
       "3  jeremy irons and forrest whitaker are good act...          0   \n",
       "4  by 1945 and after a string of solid wwii propa...          1   \n",
       "\n",
       "   rule_based_sentiment Rating label  \n",
       "0                    -1     positive  \n",
       "1                    -1     positive  \n",
       "2                     0     positive  \n",
       "3                    -1     positive  \n",
       "4                     0     negative  "
      ]
     },
     "execution_count": 39,
     "metadata": {},
     "output_type": "execute_result"
    }
   ],
   "source": [
    "data.head()"
   ]
  },
  {
   "cell_type": "code",
   "execution_count": 40,
   "id": "32a23348-84c4-43ee-a594-a8aa87b321bc",
   "metadata": {},
   "outputs": [
    {
     "data": {
      "image/png": "[encoded data removed]",
      "text/plain": [
       "<Figure size 640x480 with 1 Axes>"
      ]
     },
     "metadata": {},
     "output_type": "display_data"
    }
   ],
   "source": [
    "import matplotlib.pyplot as plt\n",
    "\n",
    "data[\"Rating label\"].value_counts().plot(kind=\"bar\")\n",
    "plt.title(\"Распределение оценок\")\n",
    "plt.show()"
   ]
  },
  {
   "cell_type": "markdown",
   "id": "c022faa8-2222-452f-b020-61f3b579f204",
   "metadata": {},
   "source": [
    "## 3. Выполним разметку вручную отдельного подмножества выбранного датасета с помощью инструмента разметки Labelstudio."
   ]
  },
  {
   "cell_type": "code",
   "execution_count": 41,
   "id": "fc3e5843-f87e-46ec-8d35-cb8aa00f56b5",
   "metadata": {
    "scrolled": true
   },
   "outputs": [],
   "source": [
    "# Формируем выборку для ручной разметки и сохраняем ее в файл .csv\n",
    "manual_labeling_subset = data[['review', 'sentiment', 'rule_based_sentiment', 'Rating label']].sample(frac=0.01)\n",
    "manual_labeling_subset.to_csv('project-9_work.csv', index=False)"
   ]
  },
  {
   "cell_type": "markdown",
   "id": "a8e8d74c-3ed1-4dcd-94c0-bab72f5ce0c8",
   "metadata": {},
   "source": [
    "Скачиваем Label Studio:\n",
    "`pip install label-studio`\n",
    "\n",
    "Запускаем сервер:\n",
    "`label-studio start`\n",
    "\n",
    "Загружаем файл 'project-9_work.csv' для разметки в формате CSV.\n",
    "\n",
    "Настраивам метки и делаем разметку вручную.\n",
    "\n",
    "Сохраняем файл с выполненными разметками."
   ]
  },
  {
   "cell_type": "code",
   "execution_count": 42,
   "id": "051b975c-ad4e-456d-822d-ac08ad18079a",
   "metadata": {},
   "outputs": [
    {
     "data": {
      "text/html": [
       "<div>\n",
       "<style scoped>\n",
       "    .dataframe tbody tr th:only-of-type {\n",
       "        vertical-align: middle;\n",
       "    }\n",
       "\n",
       "    .dataframe tbody tr th {\n",
       "        vertical-align: top;\n",
       "    }\n",
       "\n",
       "    .dataframe thead th {\n",
       "        text-align: right;\n",
       "    }\n",
       "</style>\n",
       "<table border=\"1\" class=\"dataframe\">\n",
       "  <thead>\n",
       "    <tr style=\"text-align: right;\">\n",
       "      <th></th>\n",
       "      <th>annotation_id</th>\n",
       "      <th>annotator</th>\n",
       "      <th>created_at</th>\n",
       "      <th>id</th>\n",
       "      <th>lead_time</th>\n",
       "      <th>review</th>\n",
       "      <th>rule_based_sentiment</th>\n",
       "      <th>sentiment</th>\n",
       "      <th>updated_at</th>\n",
       "    </tr>\n",
       "  </thead>\n",
       "  <tbody>\n",
       "    <tr>\n",
       "      <th>0</th>\n",
       "      <td>1</td>\n",
       "      <td>1</td>\n",
       "      <td>2024-12-04T21:02:55.191339Z</td>\n",
       "      <td>1</td>\n",
       "      <td>71.923</td>\n",
       "      <td>after having read two or three negative review...</td>\n",
       "      <td>-1</td>\n",
       "      <td>1</td>\n",
       "      <td>2024-12-04T21:02:55.191339Z</td>\n",
       "    </tr>\n",
       "    <tr>\n",
       "      <th>1</th>\n",
       "      <td>3</td>\n",
       "      <td>1</td>\n",
       "      <td>2024-12-04T21:05:55.739737Z</td>\n",
       "      <td>2</td>\n",
       "      <td>2.584</td>\n",
       "      <td>in a lonely road in cape girardeau missouri a ...</td>\n",
       "      <td>-1</td>\n",
       "      <td>1</td>\n",
       "      <td>2024-12-04T21:05:55.739737Z</td>\n",
       "    </tr>\n",
       "    <tr>\n",
       "      <th>2</th>\n",
       "      <td>2</td>\n",
       "      <td>1</td>\n",
       "      <td>2024-12-04T21:05:00.558915Z</td>\n",
       "      <td>3</td>\n",
       "      <td>6.768</td>\n",
       "      <td>of the many problems with this film the worst ...</td>\n",
       "      <td>0</td>\n",
       "      <td>0</td>\n",
       "      <td>2024-12-04T21:05:00.558915Z</td>\n",
       "    </tr>\n",
       "    <tr>\n",
       "      <th>3</th>\n",
       "      <td>4</td>\n",
       "      <td>1</td>\n",
       "      <td>2024-12-04T21:06:44.863892Z</td>\n",
       "      <td>4</td>\n",
       "      <td>2.984</td>\n",
       "      <td>jeremy irons and forrest whitaker are good act...</td>\n",
       "      <td>-1</td>\n",
       "      <td>0</td>\n",
       "      <td>2024-12-04T21:06:44.863892Z</td>\n",
       "    </tr>\n",
       "    <tr>\n",
       "      <th>4</th>\n",
       "      <td>5</td>\n",
       "      <td>1</td>\n",
       "      <td>2024-12-04T21:07:42.653414Z</td>\n",
       "      <td>5</td>\n",
       "      <td>3.952</td>\n",
       "      <td>by 1945 and after a string of solid wwii propa...</td>\n",
       "      <td>0</td>\n",
       "      <td>1</td>\n",
       "      <td>2024-12-04T21:07:42.653414Z</td>\n",
       "    </tr>\n",
       "  </tbody>\n",
       "</table>\n",
       "</div>"
      ],
      "text/plain": [
       "   annotation_id  annotator                   created_at  id  lead_time  \\\n",
       "0              1          1  2024-12-04T21:02:55.191339Z   1     71.923   \n",
       "1              3          1  2024-12-04T21:05:55.739737Z   2      2.584   \n",
       "2              2          1  2024-12-04T21:05:00.558915Z   3      6.768   \n",
       "3              4          1  2024-12-04T21:06:44.863892Z   4      2.984   \n",
       "4              5          1  2024-12-04T21:07:42.653414Z   5      3.952   \n",
       "\n",
       "                                              review  rule_based_sentiment  \\\n",
       "0  after having read two or three negative review...                    -1   \n",
       "1  in a lonely road in cape girardeau missouri a ...                    -1   \n",
       "2  of the many problems with this film the worst ...                     0   \n",
       "3  jeremy irons and forrest whitaker are good act...                    -1   \n",
       "4  by 1945 and after a string of solid wwii propa...                     0   \n",
       "\n",
       "   sentiment                   updated_at  \n",
       "0          1  2024-12-04T21:02:55.191339Z  \n",
       "1          1  2024-12-04T21:05:55.739737Z  \n",
       "2          0  2024-12-04T21:05:00.558915Z  \n",
       "3          0  2024-12-04T21:06:44.863892Z  \n",
       "4          1  2024-12-04T21:07:42.653414Z  "
      ]
     },
     "execution_count": 42,
     "metadata": {},
     "output_type": "execute_result"
    }
   ],
   "source": [
    "manual_labels = pd.read_csv('project-9_work.csv')\n",
    "manual_labels.head()"
   ]
  },
  {
   "cell_type": "markdown",
   "id": "9266a058-bdc4-496a-8bda-f4034599f1e4",
   "metadata": {},
   "source": [
    "## 4. Объединим данные, размеченные вручную, с данными, размеченными на основе правил. Объединим два подмножества размеченных данных в один набор данных, сохранив при этом соответствующую структуру и целостность."
   ]
  },
  {
   "cell_type": "code",
   "execution_count": 43,
   "id": "70051de0-796c-494d-899f-7f142039f939",
   "metadata": {},
   "outputs": [
    {
     "name": "stdout",
     "output_type": "stream",
     "text": [
      "                                              review  sentiment_auto  \\\n",
      "0  after having read two or three negative review...               1   \n",
      "1  in a lonely road in cape girardeau missouri a ...               1   \n",
      "2  of the many problems with this film the worst ...               0   \n",
      "3  jeremy irons and forrest whitaker are good act...               0   \n",
      "4  by 1945 and after a string of solid wwii propa...               1   \n",
      "\n",
      "   auto_sentiment Rating label  sentiment_manual  \n",
      "0              -1     positive               1.0  \n",
      "1              -1     positive               1.0  \n",
      "2               0     positive               0.0  \n",
      "3              -1     positive               0.0  \n",
      "4               0     negative               1.0  \n"
     ]
    }
   ],
   "source": [
    "# Объединяем данные по столбцу 'review'\n",
    "merged_data = data.merge(manual_labels[['review', 'sentiment']], on='review', how='left', suffixes=('_auto', '_manual'))\n",
    "\n",
    "# Переименовываем столбцы для ясности\n",
    "merged_data.rename(columns={\n",
    "    'sentiment': 'manual_sentiment',\n",
    "    'rule_based_sentiment': 'auto_sentiment'\n",
    "}, inplace=True)\n",
    "\n",
    "# Сохраняем объединенные данные в новый CSV файл\n",
    "merged_data.to_csv('merged_data.csv', index=False)\n",
    "\n",
    "# Выводим первые несколько строк объединенного DataFrame для проверки\n",
    "print(merged_data.head())"
   ]
  },
  {
   "cell_type": "markdown",
   "id": "01dde271-baff-42cf-872b-8ce655399bb4",
   "metadata": {},
   "source": [
    "## 5. Обучим модель машинного обучения, используя объединенный набор размеченных данных. Разделим датасет на обучающий и тестовый наборы и используем обучающий набор для обучения модели."
   ]
  },
  {
   "cell_type": "code",
   "execution_count": 46,
   "id": "805b94bd-2af0-4047-913c-11e0cb7c8078",
   "metadata": {},
   "outputs": [
    {
     "name": "stdout",
     "output_type": "stream",
     "text": [
      "Распределение классов до предобработки:\n",
      "Rating label\n",
      "positive    1920\n",
      "negative     633\n",
      "neutral      447\n",
      "Name: count, dtype: int64\n",
      "\n",
      "Распределение классов после предобработки:\n",
      "Rating label\n",
      "positive    1920\n",
      "negative    1343\n",
      "neutral     1212\n",
      "Name: count, dtype: int64\n"
     ]
    },
    {
     "data": {
      "text/html": [
       "<style>#sk-container-id-7 {color: black;background-color: white;}#sk-container-id-7 pre{padding: 0;}#sk-container-id-7 div.sk-toggleable {background-color: white;}#sk-container-id-7 label.sk-toggleable__label {cursor: pointer;display: block;width: 100%;margin-bottom: 0;padding: 0.3em;box-sizing: border-box;text-align: center;}#sk-container-id-7 label.sk-toggleable__label-arrow:before {content: \"▸\";float: left;margin-right: 0.25em;color: #696969;}#sk-container-id-7 label.sk-toggleable__label-arrow:hover:before {color: black;}#sk-container-id-7 div.sk-estimator:hover label.sk-toggleable__label-arrow:before {color: black;}#sk-container-id-7 div.sk-toggleable__content {max-height: 0;max-width: 0;overflow: hidden;text-align: left;background-color: #f0f8ff;}#sk-container-id-7 div.sk-toggleable__content pre {margin: 0.2em;color: black;border-radius: 0.25em;background-color: #f0f8ff;}#sk-container-id-7 input.sk-toggleable__control:checked~div.sk-toggleable__content {max-height: 200px;max-width: 100%;overflow: auto;}#sk-container-id-7 input.sk-toggleable__control:checked~label.sk-toggleable__label-arrow:before {content: \"▾\";}#sk-container-id-7 div.sk-estimator input.sk-toggleable__control:checked~label.sk-toggleable__label {background-color: #d4ebff;}#sk-container-id-7 div.sk-label input.sk-toggleable__control:checked~label.sk-toggleable__label {background-color: #d4ebff;}#sk-container-id-7 input.sk-hidden--visually {border: 0;clip: rect(1px 1px 1px 1px);clip: rect(1px, 1px, 1px, 1px);height: 1px;margin: -1px;overflow: hidden;padding: 0;position: absolute;width: 1px;}#sk-container-id-7 div.sk-estimator {font-family: monospace;background-color: #f0f8ff;border: 1px dotted black;border-radius: 0.25em;box-sizing: border-box;margin-bottom: 0.5em;}#sk-container-id-7 div.sk-estimator:hover {background-color: #d4ebff;}#sk-container-id-7 div.sk-parallel-item::after {content: \"\";width: 100%;border-bottom: 1px solid gray;flex-grow: 1;}#sk-container-id-7 div.sk-label:hover label.sk-toggleable__label {background-color: #d4ebff;}#sk-container-id-7 div.sk-serial::before {content: \"\";position: absolute;border-left: 1px solid gray;box-sizing: border-box;top: 0;bottom: 0;left: 50%;z-index: 0;}#sk-container-id-7 div.sk-serial {display: flex;flex-direction: column;align-items: center;background-color: white;padding-right: 0.2em;padding-left: 0.2em;position: relative;}#sk-container-id-7 div.sk-item {position: relative;z-index: 1;}#sk-container-id-7 div.sk-parallel {display: flex;align-items: stretch;justify-content: center;background-color: white;position: relative;}#sk-container-id-7 div.sk-item::before, #sk-container-id-7 div.sk-parallel-item::before {content: \"\";position: absolute;border-left: 1px solid gray;box-sizing: border-box;top: 0;bottom: 0;left: 50%;z-index: -1;}#sk-container-id-7 div.sk-parallel-item {display: flex;flex-direction: column;z-index: 1;position: relative;background-color: white;}#sk-container-id-7 div.sk-parallel-item:first-child::after {align-self: flex-end;width: 50%;}#sk-container-id-7 div.sk-parallel-item:last-child::after {align-self: flex-start;width: 50%;}#sk-container-id-7 div.sk-parallel-item:only-child::after {width: 0;}#sk-container-id-7 div.sk-dashed-wrapped {border: 1px dashed gray;margin: 0 0.4em 0.5em 0.4em;box-sizing: border-box;padding-bottom: 0.4em;background-color: white;}#sk-container-id-7 div.sk-label label {font-family: monospace;font-weight: bold;display: inline-block;line-height: 1.2em;}#sk-container-id-7 div.sk-label-container {text-align: center;}#sk-container-id-7 div.sk-container {/* jupyter's `normalize.less` sets `[hidden] { display: none; }` but bootstrap.min.css set `[hidden] { display: none !important; }` so we also need the `!important` here to be able to override the default hidden behavior on the sphinx rendered scikit-learn.org. See: https://github.com/scikit-learn/scikit-learn/issues/21755 */display: inline-block !important;position: relative;}#sk-container-id-7 div.sk-text-repr-fallback {display: none;}</style><div id=\"sk-container-id-7\" class=\"sk-top-container\"><div class=\"sk-text-repr-fallback\"><pre>RandomForestClassifier(class_weight={&#x27;negative&#x27;: 0.000744047619047619,\n",
       "                                     &#x27;neutral&#x27;: 0.000744047619047619,\n",
       "                                     &#x27;positive&#x27;: 0.000744047619047619},\n",
       "                       max_depth=15, min_samples_split=10, n_estimators=200,\n",
       "                       random_state=42)</pre><b>In a Jupyter environment, please rerun this cell to show the HTML representation or trust the notebook. <br />On GitHub, the HTML representation is unable to render, please try loading this page with nbviewer.org.</b></div><div class=\"sk-container\" hidden><div class=\"sk-item\"><div class=\"sk-estimator sk-toggleable\"><input class=\"sk-toggleable__control sk-hidden--visually\" id=\"sk-estimator-id-7\" type=\"checkbox\" checked><label for=\"sk-estimator-id-7\" class=\"sk-toggleable__label sk-toggleable__label-arrow\">RandomForestClassifier</label><div class=\"sk-toggleable__content\"><pre>RandomForestClassifier(class_weight={&#x27;negative&#x27;: 0.000744047619047619,\n",
       "                                     &#x27;neutral&#x27;: 0.000744047619047619,\n",
       "                                     &#x27;positive&#x27;: 0.000744047619047619},\n",
       "                       max_depth=15, min_samples_split=10, n_estimators=200,\n",
       "                       random_state=42)</pre></div></div></div></div></div>"
      ],
      "text/plain": [
       "RandomForestClassifier(class_weight={'negative': 0.000744047619047619,\n",
       "                                     'neutral': 0.000744047619047619,\n",
       "                                     'positive': 0.000744047619047619},\n",
       "                       max_depth=15, min_samples_split=10, n_estimators=200,\n",
       "                       random_state=42)"
      ]
     },
     "execution_count": 46,
     "metadata": {},
     "output_type": "execute_result"
    }
   ],
   "source": [
    "import numpy as np\n",
    "from sklearn.model_selection import train_test_split, cross_val_score\n",
    "from sklearn.ensemble import RandomForestClassifier, GradientBoostingClassifier\n",
    "from sklearn.metrics import classification_report, accuracy_score, confusion_matrix, balanced_accuracy_score, cohen_kappa_score\n",
    "from sklearn.feature_extraction.text import TfidfVectorizer\n",
    "from imblearn.over_sampling import SMOTE\n",
    "from sklearn.utils import resample\n",
    "\n",
    "# Загрузка объединенного набора данных\n",
    "data = pd.read_csv('merged_data.csv') \n",
    "\n",
    "# Функция расширенной предобработки\n",
    "def advanced_preprocessing(data):\n",
    "    # Удаление дубликатов\n",
    "    data = data.drop_duplicates()\n",
    "    \n",
    "    # Фильтрация коротких текстов\n",
    "    data = data[data['review'].str.len() > 10]\n",
    "    \n",
    "    # Анализ распределения классов\n",
    "    class_counts = data['Rating label'].value_counts()\n",
    "    print(\"Распределение классов до предобработки:\")\n",
    "    print(class_counts)\n",
    "    \n",
    "    # Балансировка классов\n",
    "    minority_classes = class_counts[class_counts < class_counts.mean()].index\n",
    "    \n",
    "    balanced_data = data.copy()\n",
    "    for cls in minority_classes:\n",
    "        minority_samples = data[data['Rating label'] == cls]\n",
    "        majority_samples = data[data['Rating label'] != cls]\n",
    "        \n",
    "        oversampled = resample(\n",
    "            minority_samples, \n",
    "            replace=True, \n",
    "            n_samples=int(len(majority_samples) * 0.3),  # Пропорциональное увеличение\n",
    "            random_state=42\n",
    "        )\n",
    "        \n",
    "        balanced_data = pd.concat([balanced_data, oversampled])\n",
    "    \n",
    "    # Повторный анализ распределения\n",
    "    class_counts_after = balanced_data['Rating label'].value_counts()\n",
    "    print(\"\\nРаспределение классов после предобработки:\")\n",
    "    print(class_counts_after)\n",
    "    \n",
    "    return balanced_data\n",
    "\n",
    "# Применение расширенной предобработки\n",
    "data = advanced_preprocessing(data)\n",
    "\n",
    "# Подготовка признаков и меток\n",
    "X = data['review'] \n",
    "y = data['Rating label']\n",
    "\n",
    "# Обработка пропущенных значений\n",
    "X = X.fillna('') \n",
    "y = y.fillna(0) \n",
    "\n",
    "# Преобразование всех значений в строковый формат\n",
    "X = X.astype(str)\n",
    "\n",
    "# Удаление пустых строк\n",
    "X = X[X.str.strip() != '']\n",
    "\n",
    "# Расширенная векторизация\n",
    "vectorizer = TfidfVectorizer(\n",
    "    stop_words='english',\n",
    "    max_features=10000,\n",
    "    ngram_range=(1, 3),  # Триграммы для контекста\n",
    "    max_df=0.9,  # Игнорировать слишком частые термины\n",
    "    min_df=3     # Минимальная частота слова\n",
    ")\n",
    "X_vectorized = vectorizer.fit_transform(X)\n",
    "\n",
    "# Разделение набора данных на обучающий и тестовый\n",
    "X_train, X_test, y_train, y_test = train_test_split(\n",
    "    X_vectorized, y, \n",
    "    test_size=0.3, \n",
    "    stratify=y,  # Стратифицированное разделение\n",
    "    random_state=42\n",
    ")\n",
    "\n",
    "# Применение SMOTE для дополнительной балансировки\n",
    "smote = SMOTE(random_state=42)\n",
    "X_train_resampled, y_train_resampled = smote.fit_resample(X_train, y_train)\n",
    "\n",
    "# Настройка весов классов\n",
    "class_weights = {\n",
    "    cls: 1 / count for cls, count in dict(pd.Series(y_train_resampled).value_counts()).items()\n",
    "}\n",
    "\n",
    "# Выбор и обучение модели с расширенной конфигурацией\n",
    "model = RandomForestClassifier(\n",
    "    n_estimators=200,\n",
    "    max_depth=15,\n",
    "    min_samples_split=10,\n",
    "    class_weight=class_weights,\n",
    "    random_state=42\n",
    ")  \n",
    "model.fit(X_train_resampled, y_train_resampled)"
   ]
  },
  {
   "cell_type": "markdown",
   "id": "dd64ca66-15af-40f5-97d7-e8455a6ad3db",
   "metadata": {},
   "source": [
    "## 6. Оценим эффективность обученной модели на тестовом датасете. Используем подходящие метрики оценки. Интерпретируем результаты и проанализируем эффективность модели в решении задачи разметки."
   ]
  },
  {
   "cell_type": "code",
   "execution_count": 47,
   "id": "0fb1e029-81ea-480d-aef8-d3dd95bb1c06",
   "metadata": {},
   "outputs": [
    {
     "name": "stdout",
     "output_type": "stream",
     "text": [
      "\n",
      "Основные метрики:\n",
      "Точность: 0.896500372300819\n",
      "Сбалансированная точность: 0.9092686547323644\n",
      "Каппа-статистика: 0.8439634326256074\n",
      "\n",
      "Отчет о классификации:\n",
      "              precision    recall  f1-score   support\n",
      "\n",
      "    negative       0.87      0.91      0.89       403\n",
      "     neutral       0.82      0.99      0.90       364\n",
      "    positive       0.99      0.83      0.90       576\n",
      "\n",
      "    accuracy                           0.90      1343\n",
      "   macro avg       0.89      0.91      0.90      1343\n",
      "weighted avg       0.91      0.90      0.90      1343\n",
      "\n",
      "\n",
      "Матрица ошибок:\n",
      "[[367  34   2]\n",
      " [  2 360   2]\n",
      " [ 53  46 477]]\n",
      "\n",
      "Топ-10 важных признаков:\n",
      "poor: 0.013399197577385145\n",
      "boring: 0.014185136639466425\n",
      "wonderful: 0.01622509559214146\n",
      "awful: 0.016410863054709658\n",
      "excellent: 0.018438511780600627\n",
      "love: 0.02341424615694228\n",
      "worst: 0.024551573049968106\n",
      "bad: 0.034074014258277496\n",
      "best: 0.03929839191949464\n",
      "great: 0.051119404633046914\n"
     ]
    }
   ],
   "source": [
    "# Предсказание и оценка\n",
    "y_pred = model.predict(X_test)\n",
    "\n",
    "# Расширенная оценка модели\n",
    "print(\"\\nОсновные метрики:\")\n",
    "print(\"Точность:\", accuracy_score(y_test, y_pred))\n",
    "print(\"Сбалансированная точность:\", balanced_accuracy_score(y_test, y_pred))\n",
    "print(\"Каппа-статистика:\", cohen_kappa_score(y_test, y_pred))\n",
    "\n",
    "print(\"\\nОтчет о классификации:\")\n",
    "print(classification_report(y_test, y_pred, zero_division=0))\n",
    "\n",
    "print(\"\\nМатрица ошибок:\")\n",
    "print(confusion_matrix(y_test, y_pred))\n",
    "\n",
    "# Анализ важности признаков\n",
    "feature_importances = model.feature_importances_\n",
    "top_features_indices = np.argsort(feature_importances)[-10:]\n",
    "top_features_names = vectorizer.get_feature_names_out()[top_features_indices]\n",
    "\n",
    "print(\"\\nТоп-10 важных признаков:\")\n",
    "for name, importance in zip(top_features_names, feature_importances[top_features_indices]):\n",
    "    print(f\"{name}: {importance}\")"
   ]
  },
  {
   "cell_type": "markdown",
   "id": "78bca533-624c-4621-b190-f8c82d8872db",
   "metadata": {},
   "source": [
    "### Вывод\n",
    "\n",
    "Мы получили высокую точность предсказания почти 90%. Это очень хороший результат.\r\n",
    "Класс negative предсказан с точность 87%. Класс neutral предсказан с точность 82%. Класс positive предсказан с точность 99%. \n",
    "Нейтральный класс имеет максимальную полноту. \n",
    "Позитивный классимеет самую высокую точность. \r\n",
    "Негативный класс демонстрирует сбалансированность метр.\n",
    "\n",
    "- Модель показывает высокое качество предсказания для всех классов.\n",
    "- Наиболее надежно распознаются нейтральные и позитивные тексты.\n",
    "- Минимальное количество ложных срабатываний.\n",
    "- Устойчивость к различным тональным контекстам.иксть.\r\n"
   ]
  }
 ],
 "metadata": {
  "kernelspec": {
   "display_name": "Python 3 (ipykernel)",
   "language": "python",
   "name": "python3"
  },
  "language_info": {
   "codemirror_mode": {
    "name": "ipython",
    "version": 3
   },
   "file_extension": ".py",
   "mimetype": "text/x-python",
   "name": "python",
   "nbconvert_exporter": "python",
   "pygments_lexer": "ipython3",
   "version": "3.11.7"
  }
 },
 "nbformat": 4,
 "nbformat_minor": 5
}
