{
 "cells": [
  {
   "cell_type": "code",
   "execution_count": 1,
   "id": "b433ead3",
   "metadata": {},
   "outputs": [
    {
     "name": "stdout",
     "output_type": "stream",
     "text": [
      "Requirement already satisfied: docker in c:\\users\\otern\\appdata\\local\\programs\\python\\python312\\lib\\site-packages (7.1.0)\n",
      "Requirement already satisfied: pywin32>=304 in c:\\users\\otern\\appdata\\local\\programs\\python\\python312\\lib\\site-packages (from docker) (306)\n",
      "Requirement already satisfied: requests>=2.26.0 in c:\\users\\otern\\appdata\\local\\programs\\python\\python312\\lib\\site-packages (from docker) (2.31.0)\n",
      "Requirement already satisfied: urllib3>=1.26.0 in c:\\users\\otern\\appdata\\local\\programs\\python\\python312\\lib\\site-packages (from docker) (2.2.1)\n",
      "Requirement already satisfied: charset-normalizer<4,>=2 in c:\\users\\otern\\appdata\\local\\programs\\python\\python312\\lib\\site-packages (from requests>=2.26.0->docker) (3.3.2)\n",
      "Requirement already satisfied: idna<4,>=2.5 in c:\\users\\otern\\appdata\\local\\programs\\python\\python312\\lib\\site-packages (from requests>=2.26.0->docker) (3.6)\n",
      "Requirement already satisfied: certifi>=2017.4.17 in c:\\users\\otern\\appdata\\local\\programs\\python\\python312\\lib\\site-packages (from requests>=2.26.0->docker) (2024.2.2)\n"
     ]
    },
    {
     "name": "stderr",
     "output_type": "stream",
     "text": [
      "\n",
      "[notice] A new release of pip is available: 24.0 -> 24.3.1\n",
      "[notice] To update, run: python.exe -m pip install --upgrade pip\n"
     ]
    }
   ],
   "source": [
    "!pip install docker"
   ]
  },
  {
   "cell_type": "code",
   "execution_count": 2,
   "id": "5f0679c2",
   "metadata": {},
   "outputs": [
    {
     "name": "stdout",
     "output_type": "stream",
     "text": [
      "Requirement already satisfied: clickhouse_driver in c:\\users\\otern\\appdata\\local\\programs\\python\\python312\\lib\\site-packages (0.2.9)\n",
      "Requirement already satisfied: pytz in c:\\users\\otern\\appdata\\local\\programs\\python\\python312\\lib\\site-packages (from clickhouse_driver) (2024.1)\n",
      "Requirement already satisfied: tzlocal in c:\\users\\otern\\appdata\\local\\programs\\python\\python312\\lib\\site-packages (from clickhouse_driver) (5.2)\n",
      "Requirement already satisfied: tzdata in c:\\users\\otern\\appdata\\local\\programs\\python\\python312\\lib\\site-packages (from tzlocal->clickhouse_driver) (2024.1)\n"
     ]
    },
    {
     "name": "stderr",
     "output_type": "stream",
     "text": [
      "\n",
      "[notice] A new release of pip is available: 24.0 -> 24.3.1\n",
      "[notice] To update, run: python.exe -m pip install --upgrade pip\n"
     ]
    }
   ],
   "source": [
    "!pip install clickhouse_driver\n",
    "import json"
   ]
  },
  {
   "cell_type": "code",
   "execution_count": 3,
   "id": "fe625436",
   "metadata": {},
   "outputs": [
    {
     "name": "stderr",
     "output_type": "stream",
     "text": [
      "docker: Error response from daemon: Conflict. The container name \"/clickhouse-server\" is already in use by container \"ef6dfe172af1a0247c80c820cc7ac6c3942116a38e86e2f5d5d752b1e683977d\". You have to remove (or rename) that container to be able to reuse that name.\n",
      "See 'docker run --help'.\n"
     ]
    }
   ],
   "source": [
    "!docker run -d --name clickhouse-server --ulimit nofile=262144:262144 -p 9000:9000 yandex/clickhouse-server"
   ]
  },
  {
   "cell_type": "code",
   "execution_count": 4,
   "id": "7f8a5544",
   "metadata": {},
   "outputs": [
    {
     "name": "stdout",
     "output_type": "stream",
     "text": [
      "Encountered an error: Code: 102. Unexpected packet from server localhost:9000 (expected Hello or Exception, got Unknown packet)\n"
     ]
    }
   ],
   "source": [
    "from clickhouse_driver import Client\n",
    "\n",
    "client = Client(host='localhost',  # Use 'localhost' or '127.0.0.1' for a local server\n",
    "                user='default',    # Default user, adjust if you've changed the user\n",
    "                password='',       # Default installation has no password for 'default' user\n",
    "                port=9000)         # Default TCP port for ClickHouse\n",
    "\n",
    "# Attempt to execute a query\n",
    "try:\n",
    "    result = client.execute('SHOW TABLES')\n",
    "    print(result)\n",
    "except Exception as e:\n",
    "    print(f\"Encountered an error: {e}\")"
   ]
  },
  {
   "cell_type": "code",
   "execution_count": 6,
   "id": "b6d5a7ee",
   "metadata": {},
   "outputs": [
    {
     "data": {
      "text/plain": [
       "[('trips',)]"
      ]
     },
     "execution_count": 6,
     "metadata": {},
     "output_type": "execute_result"
    }
   ],
   "source": [
    "client.execute('SHOW TABLES')"
   ]
  },
  {
   "cell_type": "code",
   "execution_count": 19,
   "id": "96ba8f84",
   "metadata": {},
   "outputs": [
    {
     "data": {
      "text/plain": [
       "[('books',), ('trips',)]"
      ]
     },
     "execution_count": 19,
     "metadata": {},
     "output_type": "execute_result"
    }
   ],
   "source": [
    "client.execute('SHOW TABLES')"
   ]
  },
  {
   "cell_type": "code",
   "execution_count": 21,
   "id": "a6f0f55e",
   "metadata": {},
   "outputs": [
    {
     "name": "stdout",
     "output_type": "stream",
     "text": [
      "Inserted 2000 records\n"
     ]
    }
   ],
   "source": [
    "# Чтение JSON файла\n",
    "try:\n",
    "    with open('books.json', 'r', encoding='utf-8') as file:\n",
    "        books_data = json.load(file)\n",
    "except FileNotFoundError:\n",
    "    print(\"Файл books.json не найден\")\n",
    "    exit()\n",
    "except json.JSONDecodeError:\n",
    "    print(\"Ошибка декодирования JSON\")\n",
    "    exit()\n",
    "\n",
    "\n",
    "# Создание таблицы\n",
    "client.execute('''\n",
    "CREATE TABLE IF NOT EXISTS books (\n",
    "    name String,\n",
    "    price Float32,\n",
    "    stock UInt32,\n",
    "    description String,\n",
    "    created_at DateTime DEFAULT now()\n",
    ") ENGINE = MergeTree()\n",
    "ORDER BY (name, created_at)\n",
    "''')\n",
    "\n",
    "# Подготовка данных для вставки\n",
    "insert_data = [\n",
    "    (\n",
    "        str(book.get('name', '')).strip(),\n",
    "        float(book.get('price', 0.0)), \n",
    "        int(book.get('stock', 0)), \n",
    "        str(book.get('description', '')).strip()\n",
    "    ) for book in books_data \n",
    "    if book.get('name') and book.get('price') is not None\n",
    "]\n",
    "\n",
    "# Вставка данных\n",
    "client.execute('INSERT INTO books (name, price, stock, description) VALUES', insert_data)\n",
    "\n",
    "# Проверка количества записей\n",
    "result = client.execute('SELECT count() FROM books')\n",
    "print(f\"Inserted {result[0][0]} records\")"
   ]
  },
  {
   "cell_type": "code",
   "execution_count": 22,
   "id": "3808ee71",
   "metadata": {},
   "outputs": [
    {
     "data": {
      "text/plain": [
       "[('books',), ('trips',)]"
      ]
     },
     "execution_count": 22,
     "metadata": {},
     "output_type": "execute_result"
    }
   ],
   "source": [
    "client.execute('SHOW TABLES')  # Покажет список всех таблиц"
   ]
  },
  {
   "cell_type": "code",
   "execution_count": 23,
   "id": "d8853abd",
   "metadata": {},
   "outputs": [
    {
     "data": {
      "text/plain": [
       "[('name', 'String', '', '', '', '', ''),\n",
       " ('price', 'Float32', '', '', '', '', ''),\n",
       " ('stock', 'UInt32', '', '', '', '', ''),\n",
       " ('description', 'String', '', '', '', '', '')]"
      ]
     },
     "execution_count": 23,
     "metadata": {},
     "output_type": "execute_result"
    }
   ],
   "source": [
    "client.execute('DESCRIBE TABLE books')"
   ]
  },
  {
   "cell_type": "code",
   "execution_count": 24,
   "id": "860285a9",
   "metadata": {},
   "outputs": [],
   "source": [
    "import pandas as pd"
   ]
  },
  {
   "cell_type": "code",
   "execution_count": 30,
   "id": "7283e4d7",
   "metadata": {},
   "outputs": [],
   "source": [
    "result = client.execute('SELECT * FROM books')\n",
    "df = pd.DataFrame(result, columns=['name', 'price', 'stock', 'description'])"
   ]
  },
  {
   "cell_type": "code",
   "execution_count": 31,
   "id": "ef12f98b",
   "metadata": {},
   "outputs": [
    {
     "data": {
      "text/html": [
       "<div>\n",
       "<style scoped>\n",
       "    .dataframe tbody tr th:only-of-type {\n",
       "        vertical-align: middle;\n",
       "    }\n",
       "\n",
       "    .dataframe tbody tr th {\n",
       "        vertical-align: top;\n",
       "    }\n",
       "\n",
       "    .dataframe thead th {\n",
       "        text-align: right;\n",
       "    }\n",
       "</style>\n",
       "<table border=\"1\" class=\"dataframe\">\n",
       "  <thead>\n",
       "    <tr style=\"text-align: right;\">\n",
       "      <th></th>\n",
       "      <th>name</th>\n",
       "      <th>price</th>\n",
       "      <th>stock</th>\n",
       "      <th>description</th>\n",
       "    </tr>\n",
       "  </thead>\n",
       "  <tbody>\n",
       "    <tr>\n",
       "      <th>0</th>\n",
       "      <td>\"Most Blessed of the Patriarchs\": Thomas Jeffe...</td>\n",
       "      <td>44.480000</td>\n",
       "      <td>8</td>\n",
       "      <td>Thomas Jefferson is often portrayed as a hopel...</td>\n",
       "    </tr>\n",
       "    <tr>\n",
       "      <th>1</th>\n",
       "      <td>#GIRLBOSS</td>\n",
       "      <td>50.959999</td>\n",
       "      <td>3</td>\n",
       "      <td>The founder of Nasty Gal offers a sassy and ir...</td>\n",
       "    </tr>\n",
       "    <tr>\n",
       "      <th>2</th>\n",
       "      <td>#HigherSelfie: Wake Up Your Life. Free Your So...</td>\n",
       "      <td>23.110001</td>\n",
       "      <td>17</td>\n",
       "      <td>There is a cosmic alarm clock going off around...</td>\n",
       "    </tr>\n",
       "    <tr>\n",
       "      <th>3</th>\n",
       "      <td>'Salem's Lot</td>\n",
       "      <td>49.560001</td>\n",
       "      <td>4</td>\n",
       "      <td>Thousands of miles away from the small townshi...</td>\n",
       "    </tr>\n",
       "    <tr>\n",
       "      <th>4</th>\n",
       "      <td>(Un)Qualified: How God Uses Broken People to D...</td>\n",
       "      <td>54.000000</td>\n",
       "      <td>16</td>\n",
       "      <td>Who You Think You Are is Not as Important as W...</td>\n",
       "    </tr>\n",
       "  </tbody>\n",
       "</table>\n",
       "</div>"
      ],
      "text/plain": [
       "                                                name      price  stock  \\\n",
       "0  \"Most Blessed of the Patriarchs\": Thomas Jeffe...  44.480000      8   \n",
       "1                                          #GIRLBOSS  50.959999      3   \n",
       "2  #HigherSelfie: Wake Up Your Life. Free Your So...  23.110001     17   \n",
       "3                                       'Salem's Lot  49.560001      4   \n",
       "4  (Un)Qualified: How God Uses Broken People to D...  54.000000     16   \n",
       "\n",
       "                                         description  \n",
       "0  Thomas Jefferson is often portrayed as a hopel...  \n",
       "1  The founder of Nasty Gal offers a sassy and ir...  \n",
       "2  There is a cosmic alarm clock going off around...  \n",
       "3  Thousands of miles away from the small townshi...  \n",
       "4  Who You Think You Are is Not as Important as W...  "
      ]
     },
     "execution_count": 31,
     "metadata": {},
     "output_type": "execute_result"
    }
   ],
   "source": [
    "df.head()"
   ]
  },
  {
   "cell_type": "code",
   "execution_count": null,
   "id": "93a48c51",
   "metadata": {},
   "outputs": [],
   "source": []
  }
 ],
 "metadata": {
  "kernelspec": {
   "display_name": "Python 3",
   "language": "python",
   "name": "python3"
  },
  "language_info": {
   "codemirror_mode": {
    "name": "ipython",
    "version": 3
   },
   "file_extension": ".py",
   "mimetype": "text/x-python",
   "name": "python",
   "nbconvert_exporter": "python",
   "pygments_lexer": "ipython3",
   "version": "3.12.1"
  }
 },
 "nbformat": 4,
 "nbformat_minor": 5
}
